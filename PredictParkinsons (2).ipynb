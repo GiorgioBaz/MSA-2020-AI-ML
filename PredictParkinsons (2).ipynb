{
  "cells": [
    {
      "metadata": {
        "trusted": true,
        "scrolled": true
      },
      "cell_type": "code",
      "source": "!pip install xgboost",
      "execution_count": 10,
      "outputs": [
        {
          "output_type": "stream",
          "text": "Collecting xgboost\n\u001b[?25l  Downloading https://files.pythonhosted.org/packages/7c/32/a11befbb003e0e6b7e062a77f010dfcec0ec3589be537b02d2eb2ff93b9a/xgboost-1.1.1-py3-none-manylinux2010_x86_64.whl (127.6MB)\n\u001b[K     |████████████████████████████████| 127.6MB 973bytes/s  0:00:01   |▏                               | 552kB 633kB/s eta 0:03:21     |██▉                             | 11.2MB 416kB/s eta 0:04:40     |█████▎                          | 21.2MB 1.7MB/s eta 0:01:04     |████████                        | 32.2MB 98kB/s eta 0:16:09     |████████▋                       | 34.5MB 672kB/s eta 0:02:1945     |██████████▋                     | 42.1MB 5.3MB/s eta 0:00:17     |██████████▋                     | 42.3MB 5.3MB/s eta 0:00:17.6MB 5.3MB/s eta 0:00:17     |████████████▏                   | 48.4MB 4.2MB/s eta 0:00:19     |█████████████                   | 52.0MB 1.4MB/s eta 0:00:55     |█████████████                   | 52.1MB 1.4MB/s eta 0:00:55     |█████████████▊                  | 54.5MB 420kB/s eta 0:02:54█████▍               | 65.1MB 95kB/s eta 0:10:51     |████████████████▍               | 65.4MB 73kB/s eta 0:14:01     |████████████████▍               | 65.5MB 73kB/s eta 0:14:00     |████████████████▋               | 66.0MB 73kB/s eta 0:13:53     |████████████████▋               | 66.1MB 2.3MB/s eta 0:00:28     |████████████████▊               | 66.5MB 2.3MB/s eta 0:00:28██████████▊               | 66.9MB 2.3MB/s eta 0:00:27/s eta 0:02:08    |██████████████████              | 72.2MB 68kB/s eta 0:13:31      | 73.0MB 68kB/s eta 0:13:18��██▌             | 73.5MB 2.4MB/s eta 0:00:23��██▋             | 74.3MB 126kB/s eta 0:07:02��██▉             | 75.3MB 126kB/s eta 0:06:54��███             | 76.0MB 1.6MB/s eta 0:00:32��███████████████▎            | 76.7MB 2.2MB/s eta 0:00:24��███████████████▍            | 77.2MB 2.2MB/s eta 0:00:23��███████████████▋            | 78.2MB 684kB/s eta 0:01:13kB/s eta 0:07:35kB/s eta 0:07:30██▋           | 82.2MB 101kB/s eta 0:07:27[K     |█████████████████████           | 83.9MB 74kB/s eta 0:09:49 eta 0:09:44�█████████▍          | 85.3MB 72kB/s eta 0:09:42�█████████▋          | 86.3MB 72kB/s eta 0:09:29███████████████          | 87.3MB 1.8MB/s eta 0:00:23��████          | 88.1MB 1.8MB/s eta 0:00:23████████████████▏         | 88.5MB 248kB/s eta 0:02:38████████████████▎         | 88.7MB 248kB/s eta 0:02:37�██████████▋         | 90.0MB 91kB/s eta 0:06:50████████████████▉         | 91.2MB 744kB/s eta 0:00:49�███████████         | 91.7MB 70kB/s eta 0:08:28███████████████████▍        | 93.3MB 70kB/s eta 0:08:06███████████████████▋        | 94.0MB 89kB/s eta 0:06:16 eta 0:04:01.1MB 132kB/s eta 0:03:58�█████████████████████▏       | 96.5MB 132kB/s eta 0:03:56████████▎       | 96.8MB 132kB/s eta 0:03:53██████████████▊       | 98.5MB 141kB/s eta 0:03:26��▉       | 98.8MB 141kB/s eta 0:03:24��█       | 99.3MB 141kB/s eta 0:03:20�███████████████       | 100.0MB 141kB/s eta 0:03:16█████████████████████████▏      | 100.3MB 6.7MB/s eta 0:00:05��█████████████████▋      | 102.0MB 138kB/s eta 0:03:05102.3MB 138kB/s eta 0:03:02�█████████████      | 104.0MB 64kB/s eta 0:06:04████████████████████████▏     | 104.4MB 64kB/s eta 0:05:59████████████████████████▌     | 105.6MB 64kB/s eta 0:05:40████████████████████████▊     | 106.6MB 64kB/s eta 0:05:25�█████████████▉     | 106.9MB 64kB/s eta 0:05:20████████▉     | 107.1MB 64kB/s eta 0:05:17███████     | 107.4MB 2.5MB/s eta 0:00:09███████     | 107.7MB 2.5MB/s eta 0:00:09   | 109.6MB 4.5MB/s eta 0:00:05   | 110.3MB 119kB/s eta 0:02:24   | 110.8MB 119kB/s eta 0:02:20   | 111.7MB 119kB/s eta 0:02:13     |████████████████████████████▎   | 112.5MB 119kB/s eta 0:02:06��█████████▎   | 112.8MB 1.6MB/s eta 0:00:10��█████████▉   | 114.7MB 114kB/s eta 0:01:52  | 116.2MB 114kB/s eta 0:01:39��████████████████████▎  | 116.6MB 106kB/s eta 0:01:43█████████▍  | 117.2MB 106kB/s eta 0:01:37|█████████████████████████████▌  | 117.5MB 106kB/s eta 0:01:34█████████▉  | 118.8MB 2.0MB/s eta 0:00:05██████████  | 119.7MB 3.1MB/s eta 0:00:03████████████████████▍ | 121.4MB 89kB/s eta 0:01:10��██████▌ | 121.7MB 89kB/s eta 0:01:07 eta 0:01:03████████████████████████▊ | 122.3MB 89kB/s eta 0:01:00��██████████▊ | 122.6MB 89kB/s eta 0:00:56    |██████████████████████████████▉ | 122.8MB 120kB/s eta 0:00:40    |██████████████████████████████▉ | 123.0MB 120kB/s eta 0:00:38�████████████████████████ | 123.8MB 120kB/s eta 0:00:32██████▎| 124.8MB 120kB/s eta 0:00:235.3MB 1.3MB/s eta 0:00:02�██████████████▌| 125.6MB 1.3MB/s eta 0:00:02███████████████████████████████▋| 125.9MB 1.3MB/s eta 0:00:02��██▋| 126.2MB 1.3MB/s eta 0:00:02�███████████████████▊| 126.5MB 1.3MB/s eta 0:00:017.0MB 113kB/s eta 0:00:05\n\u001b[?25hRequirement already satisfied: numpy in /home/nbuser/anaconda3_501/lib/python3.6/site-packages (from xgboost) (1.16.2)\nRequirement already satisfied: scipy in /home/nbuser/anaconda3_501/lib/python3.6/site-packages (from xgboost) (1.1.0)\nInstalling collected packages: xgboost\nSuccessfully installed xgboost-1.1.1\n\u001b[33mWARNING: You are using pip version 19.3.1; however, version 20.1.1 is available.\nYou should consider upgrading via the 'pip install --upgrade pip' command.\u001b[0m\n",
          "name": "stdout"
        }
      ]
    },
    {
      "metadata": {
        "trusted": true
      },
      "cell_type": "code",
      "source": "#Importing all required libraries for ML model\nimport numpy as np\nimport pandas as pd\nimport os, sys\nfrom sklearn.preprocessing import MinMaxScaler\nfrom xgboost import XGBClassifier\nfrom sklearn.model_selection import train_test_split\nfrom sklearn.metrics import accuracy_score",
      "execution_count": 3,
      "outputs": []
    },
    {
      "metadata": {
        "trusted": true
      },
      "cell_type": "code",
      "source": "#This reads the data from the parkinsons.data file and prints out the first 5 lines\ndf=pd.read_csv('parkinsons.data')\ndf.head()",
      "execution_count": 4,
      "outputs": [
        {
          "output_type": "execute_result",
          "execution_count": 4,
          "data": {
            "text/html": "<div>\n<style scoped>\n    .dataframe tbody tr th:only-of-type {\n        vertical-align: middle;\n    }\n\n    .dataframe tbody tr th {\n        vertical-align: top;\n    }\n\n    .dataframe thead th {\n        text-align: right;\n    }\n</style>\n<table border=\"1\" class=\"dataframe\">\n  <thead>\n    <tr style=\"text-align: right;\">\n      <th></th>\n      <th>name</th>\n      <th>MDVP:Fo(Hz)</th>\n      <th>MDVP:Fhi(Hz)</th>\n      <th>MDVP:Flo(Hz)</th>\n      <th>MDVP:Jitter(%)</th>\n      <th>MDVP:Jitter(Abs)</th>\n      <th>MDVP:RAP</th>\n      <th>MDVP:PPQ</th>\n      <th>Jitter:DDP</th>\n      <th>MDVP:Shimmer</th>\n      <th>...</th>\n      <th>Shimmer:DDA</th>\n      <th>NHR</th>\n      <th>HNR</th>\n      <th>status</th>\n      <th>RPDE</th>\n      <th>DFA</th>\n      <th>spread1</th>\n      <th>spread2</th>\n      <th>D2</th>\n      <th>PPE</th>\n    </tr>\n  </thead>\n  <tbody>\n    <tr>\n      <th>0</th>\n      <td>phon_R01_S01_1</td>\n      <td>119.992</td>\n      <td>157.302</td>\n      <td>74.997</td>\n      <td>0.00784</td>\n      <td>0.00007</td>\n      <td>0.00370</td>\n      <td>0.00554</td>\n      <td>0.01109</td>\n      <td>0.04374</td>\n      <td>...</td>\n      <td>0.06545</td>\n      <td>0.02211</td>\n      <td>21.033</td>\n      <td>1</td>\n      <td>0.414783</td>\n      <td>0.815285</td>\n      <td>-4.813031</td>\n      <td>0.266482</td>\n      <td>2.301442</td>\n      <td>0.284654</td>\n    </tr>\n    <tr>\n      <th>1</th>\n      <td>phon_R01_S01_2</td>\n      <td>122.400</td>\n      <td>148.650</td>\n      <td>113.819</td>\n      <td>0.00968</td>\n      <td>0.00008</td>\n      <td>0.00465</td>\n      <td>0.00696</td>\n      <td>0.01394</td>\n      <td>0.06134</td>\n      <td>...</td>\n      <td>0.09403</td>\n      <td>0.01929</td>\n      <td>19.085</td>\n      <td>1</td>\n      <td>0.458359</td>\n      <td>0.819521</td>\n      <td>-4.075192</td>\n      <td>0.335590</td>\n      <td>2.486855</td>\n      <td>0.368674</td>\n    </tr>\n    <tr>\n      <th>2</th>\n      <td>phon_R01_S01_3</td>\n      <td>116.682</td>\n      <td>131.111</td>\n      <td>111.555</td>\n      <td>0.01050</td>\n      <td>0.00009</td>\n      <td>0.00544</td>\n      <td>0.00781</td>\n      <td>0.01633</td>\n      <td>0.05233</td>\n      <td>...</td>\n      <td>0.08270</td>\n      <td>0.01309</td>\n      <td>20.651</td>\n      <td>1</td>\n      <td>0.429895</td>\n      <td>0.825288</td>\n      <td>-4.443179</td>\n      <td>0.311173</td>\n      <td>2.342259</td>\n      <td>0.332634</td>\n    </tr>\n    <tr>\n      <th>3</th>\n      <td>phon_R01_S01_4</td>\n      <td>116.676</td>\n      <td>137.871</td>\n      <td>111.366</td>\n      <td>0.00997</td>\n      <td>0.00009</td>\n      <td>0.00502</td>\n      <td>0.00698</td>\n      <td>0.01505</td>\n      <td>0.05492</td>\n      <td>...</td>\n      <td>0.08771</td>\n      <td>0.01353</td>\n      <td>20.644</td>\n      <td>1</td>\n      <td>0.434969</td>\n      <td>0.819235</td>\n      <td>-4.117501</td>\n      <td>0.334147</td>\n      <td>2.405554</td>\n      <td>0.368975</td>\n    </tr>\n    <tr>\n      <th>4</th>\n      <td>phon_R01_S01_5</td>\n      <td>116.014</td>\n      <td>141.781</td>\n      <td>110.655</td>\n      <td>0.01284</td>\n      <td>0.00011</td>\n      <td>0.00655</td>\n      <td>0.00908</td>\n      <td>0.01966</td>\n      <td>0.06425</td>\n      <td>...</td>\n      <td>0.10470</td>\n      <td>0.01767</td>\n      <td>19.649</td>\n      <td>1</td>\n      <td>0.417356</td>\n      <td>0.823484</td>\n      <td>-3.747787</td>\n      <td>0.234513</td>\n      <td>2.332180</td>\n      <td>0.410335</td>\n    </tr>\n  </tbody>\n</table>\n<p>5 rows × 24 columns</p>\n</div>",
            "text/plain": "             name  MDVP:Fo(Hz)  MDVP:Fhi(Hz)  MDVP:Flo(Hz)  MDVP:Jitter(%)  \\\n0  phon_R01_S01_1      119.992       157.302        74.997         0.00784   \n1  phon_R01_S01_2      122.400       148.650       113.819         0.00968   \n2  phon_R01_S01_3      116.682       131.111       111.555         0.01050   \n3  phon_R01_S01_4      116.676       137.871       111.366         0.00997   \n4  phon_R01_S01_5      116.014       141.781       110.655         0.01284   \n\n   MDVP:Jitter(Abs)  MDVP:RAP  MDVP:PPQ  Jitter:DDP  MDVP:Shimmer    ...     \\\n0           0.00007   0.00370   0.00554     0.01109       0.04374    ...      \n1           0.00008   0.00465   0.00696     0.01394       0.06134    ...      \n2           0.00009   0.00544   0.00781     0.01633       0.05233    ...      \n3           0.00009   0.00502   0.00698     0.01505       0.05492    ...      \n4           0.00011   0.00655   0.00908     0.01966       0.06425    ...      \n\n   Shimmer:DDA      NHR     HNR  status      RPDE       DFA   spread1  \\\n0      0.06545  0.02211  21.033       1  0.414783  0.815285 -4.813031   \n1      0.09403  0.01929  19.085       1  0.458359  0.819521 -4.075192   \n2      0.08270  0.01309  20.651       1  0.429895  0.825288 -4.443179   \n3      0.08771  0.01353  20.644       1  0.434969  0.819235 -4.117501   \n4      0.10470  0.01767  19.649       1  0.417356  0.823484 -3.747787   \n\n    spread2        D2       PPE  \n0  0.266482  2.301442  0.284654  \n1  0.335590  2.486855  0.368674  \n2  0.311173  2.342259  0.332634  \n3  0.334147  2.405554  0.368975  \n4  0.234513  2.332180  0.410335  \n\n[5 rows x 24 columns]"
          },
          "metadata": {}
        }
      ]
    },
    {
      "metadata": {
        "trusted": true
      },
      "cell_type": "code",
      "source": "#This code distinguishes the features from the labels through the use of DataFrame\nfeatures=df.loc[:,df.columns!='status'].values[:,1:]\nlabels= df.loc[:,'status'].values",
      "execution_count": 5,
      "outputs": []
    },
    {
      "metadata": {
        "trusted": true
      },
      "cell_type": "code",
      "source": "#Here we are using the status column to determine which people have parkinsons an which are healthy\nprint(labels[labels==1].shape[0], labels[labels==0].shape[0])",
      "execution_count": 7,
      "outputs": [
        {
          "output_type": "stream",
          "text": "147 48\n",
          "name": "stdout"
        }
      ]
    },
    {
      "metadata": {
        "trusted": true
      },
      "cell_type": "code",
      "source": "#In this code we use the MinMaxScaler to normalise the features between (-1 and 1)\nscaler=MinMaxScaler((-1,1))\n#Then we use fit_transform to fit the data and transform it\nx=scaler.fit_transform(features)\ny=labels",
      "execution_count": 8,
      "outputs": [
        {
          "output_type": "stream",
          "text": "/home/nbuser/anaconda3_501/lib/python3.6/site-packages/sklearn/utils/validation.py:595: DataConversionWarning: Data with input dtype object was converted to float64 by MinMaxScaler.\n  warnings.warn(msg, DataConversionWarning)\n",
          "name": "stderr"
        }
      ]
    },
    {
      "metadata": {
        "trusted": true
      },
      "cell_type": "code",
      "source": "#We use the train_test_split to split the data allocating 80% to training and 20% to testing\nx_train,x_test,y_train,y_test=train_test_split(x, y, test_size=0.2, random_state=7)",
      "execution_count": 10,
      "outputs": []
    },
    {
      "metadata": {
        "trusted": true
      },
      "cell_type": "code",
      "source": "#This code uses the XGBClassifier to train our model, XGboost is a gradient booster meaning that it combiones weak classifiers to produce a powerful commitee\nmodel=XGBClassifier()\nmodel.fit(x_train,y_train)",
      "execution_count": 11,
      "outputs": [
        {
          "output_type": "execute_result",
          "execution_count": 11,
          "data": {
            "text/plain": "XGBClassifier(base_score=0.5, booster='gbtree', colsample_bylevel=1,\n       colsample_bynode=1, colsample_bytree=1, gamma=0, gpu_id=-1,\n       importance_type='gain', interaction_constraints='',\n       learning_rate=0.300000012, max_delta_step=0, max_depth=6,\n       min_child_weight=1, missing=nan, monotone_constraints='()',\n       n_estimators=100, n_jobs=0, num_parallel_tree=1,\n       objective='binary:logistic', random_state=0, reg_alpha=0,\n       reg_lambda=1, scale_pos_weight=1, subsample=1, tree_method='exact',\n       validate_parameters=1, verbosity=None)"
          },
          "metadata": {}
        }
      ]
    },
    {
      "metadata": {
        "trusted": true
      },
      "cell_type": "code",
      "source": "#Calculates the Accuracy of the predictions\ny_pred=model.predict(x_test)\nprint(accuracy_score(y_test, y_pred)*100)",
      "execution_count": 12,
      "outputs": [
        {
          "output_type": "stream",
          "text": "94.87179487179486\n",
          "name": "stdout"
        }
      ]
    },
    {
      "metadata": {
        "trusted": true
      },
      "cell_type": "code",
      "source": "#This code creates a confusion matrix which determines how many times the model predicted correctly\nfrom sklearn.metrics import confusion_matrix\nconfusion_matrix(y_test, y_pred)",
      "execution_count": 14,
      "outputs": [
        {
          "output_type": "execute_result",
          "execution_count": 14,
          "data": {
            "text/plain": "array([[ 6,  1],\n       [ 1, 31]])"
          },
          "metadata": {}
        }
      ]
    },
    {
      "metadata": {
        "trusted": true
      },
      "cell_type": "code",
      "source": "#Generates a set of prediction probabilities for the data set \nfrom sklearn.metrics import roc_auc_score\nprobabilities = model.predict_proba(x_test)",
      "execution_count": 15,
      "outputs": []
    },
    {
      "metadata": {
        "trusted": true
      },
      "cell_type": "code",
      "source": "#Testing how many outputs from the model where predicted correctly using a roc auc score\nroc_auc_score(y_test, probabilities[:, 1])",
      "execution_count": 16,
      "outputs": [
        {
          "output_type": "execute_result",
          "execution_count": 16,
          "data": {
            "text/plain": "0.9910714285714286"
          },
          "metadata": {}
        }
      ]
    },
    {
      "metadata": {},
      "cell_type": "markdown",
      "source": "Predicting Parkinsons with UDPRS data"
    },
    {
      "metadata": {
        "trusted": true
      },
      "cell_type": "code",
      "source": "udf=pd.read_csv('parkinsons_updrs.data')\nudf.head()",
      "execution_count": 51,
      "outputs": [
        {
          "output_type": "execute_result",
          "execution_count": 51,
          "data": {
            "text/html": "<div>\n<style scoped>\n    .dataframe tbody tr th:only-of-type {\n        vertical-align: middle;\n    }\n\n    .dataframe tbody tr th {\n        vertical-align: top;\n    }\n\n    .dataframe thead th {\n        text-align: right;\n    }\n</style>\n<table border=\"1\" class=\"dataframe\">\n  <thead>\n    <tr style=\"text-align: right;\">\n      <th></th>\n      <th>subject#</th>\n      <th>age</th>\n      <th>sex</th>\n      <th>test_time</th>\n      <th>motor_UPDRS</th>\n      <th>total_UPDRS</th>\n      <th>Jitter(%)</th>\n      <th>Jitter(Abs)</th>\n      <th>Jitter:RAP</th>\n      <th>Jitter:PPQ5</th>\n      <th>...</th>\n      <th>Shimmer(dB)</th>\n      <th>Shimmer:APQ3</th>\n      <th>Shimmer:APQ5</th>\n      <th>Shimmer:APQ11</th>\n      <th>Shimmer:DDA</th>\n      <th>NHR</th>\n      <th>HNR</th>\n      <th>RPDE</th>\n      <th>DFA</th>\n      <th>PPE</th>\n    </tr>\n  </thead>\n  <tbody>\n    <tr>\n      <th>0</th>\n      <td>1</td>\n      <td>72</td>\n      <td>0</td>\n      <td>5.6431</td>\n      <td>28.199</td>\n      <td>34.398</td>\n      <td>0.00662</td>\n      <td>0.000034</td>\n      <td>0.00401</td>\n      <td>0.00317</td>\n      <td>...</td>\n      <td>0.230</td>\n      <td>0.01438</td>\n      <td>0.01309</td>\n      <td>0.01662</td>\n      <td>0.04314</td>\n      <td>0.014290</td>\n      <td>21.640</td>\n      <td>0.41888</td>\n      <td>0.54842</td>\n      <td>0.16006</td>\n    </tr>\n    <tr>\n      <th>1</th>\n      <td>1</td>\n      <td>72</td>\n      <td>0</td>\n      <td>12.6660</td>\n      <td>28.447</td>\n      <td>34.894</td>\n      <td>0.00300</td>\n      <td>0.000017</td>\n      <td>0.00132</td>\n      <td>0.00150</td>\n      <td>...</td>\n      <td>0.179</td>\n      <td>0.00994</td>\n      <td>0.01072</td>\n      <td>0.01689</td>\n      <td>0.02982</td>\n      <td>0.011112</td>\n      <td>27.183</td>\n      <td>0.43493</td>\n      <td>0.56477</td>\n      <td>0.10810</td>\n    </tr>\n    <tr>\n      <th>2</th>\n      <td>1</td>\n      <td>72</td>\n      <td>0</td>\n      <td>19.6810</td>\n      <td>28.695</td>\n      <td>35.389</td>\n      <td>0.00481</td>\n      <td>0.000025</td>\n      <td>0.00205</td>\n      <td>0.00208</td>\n      <td>...</td>\n      <td>0.181</td>\n      <td>0.00734</td>\n      <td>0.00844</td>\n      <td>0.01458</td>\n      <td>0.02202</td>\n      <td>0.020220</td>\n      <td>23.047</td>\n      <td>0.46222</td>\n      <td>0.54405</td>\n      <td>0.21014</td>\n    </tr>\n    <tr>\n      <th>3</th>\n      <td>1</td>\n      <td>72</td>\n      <td>0</td>\n      <td>25.6470</td>\n      <td>28.905</td>\n      <td>35.810</td>\n      <td>0.00528</td>\n      <td>0.000027</td>\n      <td>0.00191</td>\n      <td>0.00264</td>\n      <td>...</td>\n      <td>0.327</td>\n      <td>0.01106</td>\n      <td>0.01265</td>\n      <td>0.01963</td>\n      <td>0.03317</td>\n      <td>0.027837</td>\n      <td>24.445</td>\n      <td>0.48730</td>\n      <td>0.57794</td>\n      <td>0.33277</td>\n    </tr>\n    <tr>\n      <th>4</th>\n      <td>1</td>\n      <td>72</td>\n      <td>0</td>\n      <td>33.6420</td>\n      <td>29.187</td>\n      <td>36.375</td>\n      <td>0.00335</td>\n      <td>0.000020</td>\n      <td>0.00093</td>\n      <td>0.00130</td>\n      <td>...</td>\n      <td>0.176</td>\n      <td>0.00679</td>\n      <td>0.00929</td>\n      <td>0.01819</td>\n      <td>0.02036</td>\n      <td>0.011625</td>\n      <td>26.126</td>\n      <td>0.47188</td>\n      <td>0.56122</td>\n      <td>0.19361</td>\n    </tr>\n  </tbody>\n</table>\n<p>5 rows × 22 columns</p>\n</div>",
            "text/plain": "   subject#  age  sex  test_time  motor_UPDRS  total_UPDRS  Jitter(%)  \\\n0         1   72    0     5.6431       28.199       34.398    0.00662   \n1         1   72    0    12.6660       28.447       34.894    0.00300   \n2         1   72    0    19.6810       28.695       35.389    0.00481   \n3         1   72    0    25.6470       28.905       35.810    0.00528   \n4         1   72    0    33.6420       29.187       36.375    0.00335   \n\n   Jitter(Abs)  Jitter:RAP  Jitter:PPQ5   ...     Shimmer(dB)  Shimmer:APQ3  \\\n0     0.000034     0.00401      0.00317   ...           0.230       0.01438   \n1     0.000017     0.00132      0.00150   ...           0.179       0.00994   \n2     0.000025     0.00205      0.00208   ...           0.181       0.00734   \n3     0.000027     0.00191      0.00264   ...           0.327       0.01106   \n4     0.000020     0.00093      0.00130   ...           0.176       0.00679   \n\n   Shimmer:APQ5  Shimmer:APQ11  Shimmer:DDA       NHR     HNR     RPDE  \\\n0       0.01309        0.01662      0.04314  0.014290  21.640  0.41888   \n1       0.01072        0.01689      0.02982  0.011112  27.183  0.43493   \n2       0.00844        0.01458      0.02202  0.020220  23.047  0.46222   \n3       0.01265        0.01963      0.03317  0.027837  24.445  0.48730   \n4       0.00929        0.01819      0.02036  0.011625  26.126  0.47188   \n\n       DFA      PPE  \n0  0.54842  0.16006  \n1  0.56477  0.10810  \n2  0.54405  0.21014  \n3  0.57794  0.33277  \n4  0.56122  0.19361  \n\n[5 rows x 22 columns]"
          },
          "metadata": {}
        }
      ]
    },
    {
      "metadata": {
        "trusted": true
      },
      "cell_type": "code",
      "source": "features=udf.loc[:, (udf.columns != 'motor_UPDRS') & (udf.columns != 'total_UPDRS')].values[:, 1:]\nlabels=udf.loc[:, (udf.columns == 'motor_UPDRS') | (udf.columns == 'total_UPDRS')  ].values",
      "execution_count": 52,
      "outputs": []
    },
    {
      "metadata": {
        "trusted": true
      },
      "cell_type": "code",
      "source": "x=scaler.fit_transform(features)\ny=scaler.fit_transform(labels)",
      "execution_count": 57,
      "outputs": []
    },
    {
      "metadata": {
        "trusted": true
      },
      "cell_type": "code",
      "source": "x_train, x_test, y_train, y_test = train_test_split(x, y, test_size=0.2, random_state=7)",
      "execution_count": 58,
      "outputs": []
    },
    {
      "metadata": {
        "trusted": true
      },
      "cell_type": "code",
      "source": "from keras.models import Sequential\nfrom keras.layers import Dense\nudf_model = Sequential()\nudf_model.add(Dense(32, input_shape=(x.shape[1],)) )\nudf_model.add(Dense(16, activation='tanh'))\nudf_model.add(Dense(8, activation='tanh'))\nudf_model.add(Dense(72, activation='tanh'))\nudf_model.add(Dense(y.shape[1], activation='tanh'))\nudf_model.compile(optimizer='adam', loss='mean_squared_error', metrics=['accuracy'])",
      "execution_count": 61,
      "outputs": []
    },
    {
      "metadata": {
        "trusted": true
      },
      "cell_type": "code",
      "source": "hist=udf_model.fit(x_train, y_train, batch_size=1, epochs=5, validation_split=0.25)",
      "execution_count": 62,
      "outputs": [
        {
          "output_type": "stream",
          "text": "Train on 3525 samples, validate on 1175 samples\nEpoch 1/5\n3525/3525 [==============================] - 65s 18ms/step - loss: 0.1905 - accuracy: 0.5677 - val_loss: 0.1626 - val_accuracy: 0.5506\nEpoch 2/5\n3525/3525 [==============================] - 60s 17ms/step - loss: 0.1526 - accuracy: 0.5938 - val_loss: 0.1786 - val_accuracy: 0.6179\nEpoch 3/5\n3525/3525 [==============================] - 62s 18ms/step - loss: 0.1386 - accuracy: 0.6074 - val_loss: 0.1381 - val_accuracy: 0.5540\nEpoch 4/5\n3525/3525 [==============================] - 58s 17ms/step - loss: 0.1241 - accuracy: 0.6071 - val_loss: 0.1179 - val_accuracy: 0.5779\nEpoch 5/5\n3525/3525 [==============================] - 59s 17ms/step - loss: 0.1161 - accuracy: 0.6111 - val_loss: 0.1061 - val_accuracy: 0.5813\n",
          "name": "stdout"
        }
      ]
    },
    {
      "metadata": {
        "trusted": true
      },
      "cell_type": "code",
      "source": "import seaborn as sns\nimport matplotlib.pyplot as plt\n%matplotlib inline\n\nsns.set()\nloss = hist.history['loss']\nval = hist.history['val_loss']\nepochs = range(1, len(loss) + 1)\n\nplt.plot(epochs, loss, '-', label='Training Loss')\nplt.plot(epochs, val, ':', label='Validation Loss')\nplt.title('Training and Validation Loss')\nplt.xlabel('Epoch')\nplt.ylabel('Accuracy')\nplt.legend(loc='upper left')\nplt.plot()",
      "execution_count": 67,
      "outputs": [
        {
          "output_type": "execute_result",
          "execution_count": 67,
          "data": {
            "text/plain": "[]"
          },
          "metadata": {}
        },
        {
          "output_type": "display_data",
          "data": {
            "image/png": "[encoded data removed]",
            "text/plain": "<Figure size 432x288 with 1 Axes>"
          },
          "metadata": {}
        }
      ]
    },
    {
      "metadata": {
        "trusted": true
      },
      "cell_type": "code",
      "source": "hist=udf_model.fit(x_train, y_train, batch_size=1, epochs=5, validation_split=0.25)",
      "execution_count": 64,
      "outputs": [
        {
          "output_type": "stream",
          "text": "Train on 3525 samples, validate on 1175 samples\nEpoch 1/5\n3525/3525 [==============================] - 60s 17ms/step - loss: 0.1091 - accuracy: 0.6207 - val_loss: 0.1069 - val_accuracy: 0.5906\nEpoch 2/5\n3525/3525 [==============================] - 63s 18ms/step - loss: 0.1064 - accuracy: 0.6176 - val_loss: 0.1080 - val_accuracy: 0.6357\nEpoch 3/5\n3525/3525 [==============================] - 61s 17ms/step - loss: 0.1017 - accuracy: 0.6252 - val_loss: 0.0958 - val_accuracy: 0.6349\nEpoch 4/5\n3525/3525 [==============================] - 57s 16ms/step - loss: 0.0965 - accuracy: 0.6298 - val_loss: 0.1279 - val_accuracy: 0.5949\nEpoch 5/5\n3525/3525 [==============================] - 57s 16ms/step - loss: 0.0938 - accuracy: 0.6326 - val_loss: 0.0909 - val_accuracy: 0.6272\n",
          "name": "stdout"
        }
      ]
    },
    {
      "metadata": {
        "trusted": true
      },
      "cell_type": "code",
      "source": "hist=udf_model.fit(x_train, y_train, batch_size=1, epochs=5, validation_split=0.25)",
      "execution_count": 66,
      "outputs": [
        {
          "output_type": "stream",
          "text": "Train on 3525 samples, validate on 1175 samples\nEpoch 1/5\n3525/3525 [==============================] - 56s 16ms/step - loss: 0.0912 - accuracy: 0.6394 - val_loss: 0.1171 - val_accuracy: 0.5940\nEpoch 2/5\n3525/3525 [==============================] - 58s 17ms/step - loss: 0.0885 - accuracy: 0.6329 - val_loss: 0.0895 - val_accuracy: 0.6340\nEpoch 3/5\n3525/3525 [==============================] - 59s 17ms/step - loss: 0.0864 - accuracy: 0.6550 - val_loss: 0.0924 - val_accuracy: 0.6417\nEpoch 4/5\n3525/3525 [==============================] - 60s 17ms/step - loss: 0.0836 - accuracy: 0.6420 - val_loss: 0.0843 - val_accuracy: 0.6238\nEpoch 5/5\n3525/3525 [==============================] - 58s 16ms/step - loss: 0.0841 - accuracy: 0.6329 - val_loss: 0.0891 - val_accuracy: 0.6187\n",
          "name": "stdout"
        }
      ]
    },
    {
      "metadata": {
        "trusted": true
      },
      "cell_type": "code",
      "source": "hist=udf_model.fit(x_train, y_train, batch_size=1, epochs=5, validation_split=0.25)",
      "execution_count": 68,
      "outputs": [
        {
          "output_type": "stream",
          "text": "Train on 3525 samples, validate on 1175 samples\nEpoch 1/5\n3525/3525 [==============================] - 57s 16ms/step - loss: 0.0830 - accuracy: 0.6565 - val_loss: 0.0927 - val_accuracy: 0.6460\nEpoch 2/5\n3525/3525 [==============================] - 60s 17ms/step - loss: 0.0807 - accuracy: 0.6502 - val_loss: 0.0898 - val_accuracy: 0.6562\nEpoch 3/5\n3525/3525 [==============================] - 58s 16ms/step - loss: 0.0821 - accuracy: 0.6445 - val_loss: 0.0767 - val_accuracy: 0.6196\nEpoch 4/5\n3525/3525 [==============================] - 65s 18ms/step - loss: 0.0791 - accuracy: 0.6672 - val_loss: 0.0831 - val_accuracy: 0.6511\nEpoch 5/5\n3525/3525 [==============================] - 58s 16ms/step - loss: 0.0770 - accuracy: 0.6587 - val_loss: 0.0783 - val_accuracy: 0.6655\n",
          "name": "stdout"
        }
      ]
    },
    {
      "metadata": {
        "trusted": true
      },
      "cell_type": "code",
      "source": "",
      "execution_count": null,
      "outputs": []
    }
  ],
  "metadata": {
    "kernelspec": {
      "name": "python36",
      "display_name": "Python 3.6",
      "language": "python"
    },
    "language_info": {
      "mimetype": "text/x-python",
      "nbconvert_exporter": "python",
      "name": "python",
      "pygments_lexer": "ipython3",
      "version": "3.6.6",
      "file_extension": ".py",
      "codemirror_mode": {
        "version": 3,
        "name": "ipython"
      }
    }
  },
  "nbformat": 4,
  "nbformat_minor": 2
}